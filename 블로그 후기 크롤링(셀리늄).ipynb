{
 "cells": [
  {
   "cell_type": "code",
   "execution_count": 2,
   "metadata": {},
   "outputs": [
    {
     "name": "stdout",
     "output_type": "stream",
     "text": [
      "Collecting selenium\n",
      "  Downloading https://files.pythonhosted.org/packages/80/d6/4294f0b4bce4de0abf13e17190289f9d0613b0a44e5dd6a7f5ca98459853/selenium-3.141.0-py2.py3-none-any.whl (904kB)\n",
      "Requirement already satisfied: urllib3 in c:\\users\\xnote\\anaconda3\\lib\\site-packages (from selenium) (1.24.1)\n",
      "Installing collected packages: selenium\n",
      "Successfully installed selenium-3.141.0\n"
     ]
    }
   ],
   "source": [
    "!pip install selenium"
   ]
  },
  {
   "cell_type": "code",
   "execution_count": 4,
   "metadata": {},
   "outputs": [],
   "source": [
    "import xlwt\n",
    "from bs4 import BeautifulSoup\n",
    "from urllib import request, parse\n",
    "from selenium import webdriver\n",
    "import re"
   ]
  },
  {
   "cell_type": "code",
   "execution_count": 6,
   "metadata": {},
   "outputs": [],
   "source": [
    "# 변수들\n",
    "\n",
    "district_names = [ '동두천자연휴양림',\n",
    "'한탄강주상절리길',\n",
    "'여강길',\n",
    "'잣향기푸른숲',\n",
    "'바람새마을 소풍정원',\n",
    "'평화누리공원',\n",
    "'행주산성역사공원',\n",
    "'갯골생태공원',\n",
    "'김포 평화누리길 1코스',\n",
    "'곤지암 리조트 힐링캠퍼스' ]\n",
    "\n",
    "years = []\n",
    "FIRST_DAY = '0101'\n",
    "LAST_DAY = '1231'\n",
    "START_YEAR = 2019\n",
    "END_YEAR = 2020"
   ]
  },
  {
   "cell_type": "code",
   "execution_count": 8,
   "metadata": {},
   "outputs": [
    {
     "name": "stdout",
     "output_type": "stream",
     "text": [
      "동두천자연휴양림\n",
      "save_xlsx\n",
      "한탄강주상절리길\n",
      "save_xlsx\n",
      "여강길\n",
      "save_xlsx\n",
      "잣향기푸른숲\n",
      "save_xlsx\n",
      "바람새마을 소풍정원\n",
      "save_xlsx\n",
      "평화누리공원\n",
      "save_xlsx\n",
      "행주산성역사공원\n",
      "save_xlsx\n",
      "갯골생태공원\n",
      "save_xlsx\n",
      "김포 평화누리길 1코스\n",
      "save_xlsx\n",
      "곤지암 리조트 힐링캠퍼스\n",
      "save_xlsx\n"
     ]
    },
    {
     "ename": "PermissionError",
     "evalue": "[Errno 13] Permission denied: 'D:/민섭/python'",
     "output_type": "error",
     "traceback": [
      "\u001b[1;31m---------------------------------------------------------------------------\u001b[0m",
      "\u001b[1;31mPermissionError\u001b[0m                           Traceback (most recent call last)",
      "\u001b[1;32m<ipython-input-8-1431ef7cc884>\u001b[0m in \u001b[0;36m<module>\u001b[1;34m\u001b[0m\n\u001b[0;32m     53\u001b[0m     \u001b[1;32mreturn\u001b[0m \u001b[0mnum\u001b[0m\u001b[1;33m\u001b[0m\u001b[1;33m\u001b[0m\u001b[0m\n\u001b[0;32m     54\u001b[0m \u001b[1;33m\u001b[0m\u001b[0m\n\u001b[1;32m---> 55\u001b[1;33m \u001b[0mcrawl\u001b[0m\u001b[1;33m(\u001b[0m\u001b[0mdistrict_names\u001b[0m\u001b[1;33m,\u001b[0m \u001b[0myears\u001b[0m\u001b[1;33m)\u001b[0m\u001b[1;33m\u001b[0m\u001b[1;33m\u001b[0m\u001b[0m\n\u001b[0m",
      "\u001b[1;32m<ipython-input-8-1431ef7cc884>\u001b[0m in \u001b[0;36mcrawl\u001b[1;34m(district_names, years)\u001b[0m\n\u001b[0;32m     27\u001b[0m         \u001b[1;31m# 엑셀에 넣기\u001b[0m\u001b[1;33m\u001b[0m\u001b[1;33m\u001b[0m\u001b[1;33m\u001b[0m\u001b[0m\n\u001b[0;32m     28\u001b[0m         \u001b[0mrow\u001b[0m \u001b[1;33m=\u001b[0m \u001b[0msave_xlsx\u001b[0m\u001b[1;33m(\u001b[0m\u001b[0mdistrict\u001b[0m\u001b[1;33m,\u001b[0m \u001b[0mposting_nums\u001b[0m\u001b[1;33m,\u001b[0m \u001b[0mws\u001b[0m\u001b[1;33m,\u001b[0m \u001b[0mrow\u001b[0m\u001b[1;33m)\u001b[0m\u001b[1;33m\u001b[0m\u001b[1;33m\u001b[0m\u001b[0m\n\u001b[1;32m---> 29\u001b[1;33m     \u001b[0mwb\u001b[0m\u001b[1;33m.\u001b[0m\u001b[0msave\u001b[0m\u001b[1;33m(\u001b[0m\u001b[1;34m'D:/민섭/python'\u001b[0m\u001b[1;33m)\u001b[0m\u001b[1;33m\u001b[0m\u001b[1;33m\u001b[0m\u001b[0m\n\u001b[0m\u001b[0;32m     30\u001b[0m \u001b[1;33m\u001b[0m\u001b[0m\n\u001b[0;32m     31\u001b[0m \u001b[1;32mdef\u001b[0m \u001b[0msave_xlsx\u001b[0m\u001b[1;33m(\u001b[0m\u001b[0mdistrict_name\u001b[0m\u001b[1;33m,\u001b[0m \u001b[0mnum_of_postings\u001b[0m\u001b[1;33m,\u001b[0m \u001b[0mws\u001b[0m\u001b[1;33m,\u001b[0m \u001b[0mrow\u001b[0m\u001b[1;33m)\u001b[0m\u001b[1;33m:\u001b[0m\u001b[1;33m\u001b[0m\u001b[1;33m\u001b[0m\u001b[0m\n",
      "\u001b[1;32m~\\Anaconda3\\lib\\site-packages\\xlwt\\Workbook.py\u001b[0m in \u001b[0;36msave\u001b[1;34m(self, filename_or_stream)\u001b[0m\n\u001b[0;32m    708\u001b[0m \u001b[1;33m\u001b[0m\u001b[0m\n\u001b[0;32m    709\u001b[0m         \u001b[0mdoc\u001b[0m \u001b[1;33m=\u001b[0m \u001b[0mCompoundDoc\u001b[0m\u001b[1;33m.\u001b[0m\u001b[0mXlsDoc\u001b[0m\u001b[1;33m(\u001b[0m\u001b[1;33m)\u001b[0m\u001b[1;33m\u001b[0m\u001b[1;33m\u001b[0m\u001b[0m\n\u001b[1;32m--> 710\u001b[1;33m         \u001b[0mdoc\u001b[0m\u001b[1;33m.\u001b[0m\u001b[0msave\u001b[0m\u001b[1;33m(\u001b[0m\u001b[0mfilename_or_stream\u001b[0m\u001b[1;33m,\u001b[0m \u001b[0mself\u001b[0m\u001b[1;33m.\u001b[0m\u001b[0mget_biff_data\u001b[0m\u001b[1;33m(\u001b[0m\u001b[1;33m)\u001b[0m\u001b[1;33m)\u001b[0m\u001b[1;33m\u001b[0m\u001b[1;33m\u001b[0m\u001b[0m\n\u001b[0m\u001b[0;32m    711\u001b[0m \u001b[1;33m\u001b[0m\u001b[0m\n\u001b[0;32m    712\u001b[0m \u001b[1;33m\u001b[0m\u001b[0m\n",
      "\u001b[1;32m~\\Anaconda3\\lib\\site-packages\\xlwt\\CompoundDoc.py\u001b[0m in \u001b[0;36msave\u001b[1;34m(self, file_name_or_filelike_obj, stream)\u001b[0m\n\u001b[0;32m    260\u001b[0m         \u001b[0mwe_own_it\u001b[0m \u001b[1;33m=\u001b[0m \u001b[1;32mnot\u001b[0m \u001b[0mhasattr\u001b[0m\u001b[1;33m(\u001b[0m\u001b[0mf\u001b[0m\u001b[1;33m,\u001b[0m \u001b[1;34m'write'\u001b[0m\u001b[1;33m)\u001b[0m\u001b[1;33m\u001b[0m\u001b[1;33m\u001b[0m\u001b[0m\n\u001b[0;32m    261\u001b[0m         \u001b[1;32mif\u001b[0m \u001b[0mwe_own_it\u001b[0m\u001b[1;33m:\u001b[0m\u001b[1;33m\u001b[0m\u001b[1;33m\u001b[0m\u001b[0m\n\u001b[1;32m--> 262\u001b[1;33m             \u001b[0mf\u001b[0m \u001b[1;33m=\u001b[0m \u001b[0mopen\u001b[0m\u001b[1;33m(\u001b[0m\u001b[0mfile_name_or_filelike_obj\u001b[0m\u001b[1;33m,\u001b[0m \u001b[1;34m'w+b'\u001b[0m\u001b[1;33m)\u001b[0m\u001b[1;33m\u001b[0m\u001b[1;33m\u001b[0m\u001b[0m\n\u001b[0m\u001b[0;32m    263\u001b[0m         \u001b[0mf\u001b[0m\u001b[1;33m.\u001b[0m\u001b[0mwrite\u001b[0m\u001b[1;33m(\u001b[0m\u001b[0mself\u001b[0m\u001b[1;33m.\u001b[0m\u001b[0mheader\u001b[0m\u001b[1;33m)\u001b[0m\u001b[1;33m\u001b[0m\u001b[1;33m\u001b[0m\u001b[0m\n\u001b[0;32m    264\u001b[0m         \u001b[0mf\u001b[0m\u001b[1;33m.\u001b[0m\u001b[0mwrite\u001b[0m\u001b[1;33m(\u001b[0m\u001b[0mself\u001b[0m\u001b[1;33m.\u001b[0m\u001b[0mpacked_MSAT_1st\u001b[0m\u001b[1;33m)\u001b[0m\u001b[1;33m\u001b[0m\u001b[1;33m\u001b[0m\u001b[0m\n",
      "\u001b[1;31mPermissionError\u001b[0m: [Errno 13] Permission denied: 'D:/민섭/python'"
     ]
    }
   ],
   "source": [
    "# 기본 셋팅\n",
    "def make_years(start_year, end_year, years):\n",
    "    for year in range(start_year, end_year+1):\n",
    "        years.append(str(year))\n",
    "\n",
    "make_years(START_YEAR, END_YEAR, years)\n",
    "driver = webdriver.Chrome(executable_path='(driver) chromedriver.exe')\n",
    "wb = xlwt.Workbook()\n",
    "ws = wb.add_sheet('blogs')\n",
    "\n",
    "base_url = \"search.naver.com/search.naver?where=post&query={0}&st=sim&sm=tab_opt&date_from={1}&date_to={2}&date_to=20151231&date_option=8&srchby=all&dup_remove=1\"\n",
    "def crawl(district_names, years):\n",
    "    row = 0;\n",
    "    for district in district_names:\n",
    "        print(district)\n",
    "        posting_nums = []\n",
    "        for index, year in enumerate(years):\n",
    "            # make url\n",
    "            start_day = year + FIRST_DAY\n",
    "            end_day = year + LAST_DAY\n",
    "            url = 'https://' + base_url.format(district, start_day, end_day)\n",
    "\n",
    "            # 갯수 크롤링해서\n",
    "            num = get_posting_num(url)\n",
    "            posting_nums.append(num)\n",
    "\n",
    "        # 엑셀에 넣기\n",
    "        row = save_xlsx(district, posting_nums, ws, row)\n",
    "    wb.save('D:/민섭/python')\n",
    "\n",
    "def save_xlsx(district_name, num_of_postings, ws, row):\n",
    "    print('save_xlsx')\n",
    "    ws.write(row, 0, district_name)\n",
    "    for index, num in enumerate(num_of_postings):\n",
    "        ws.write(row, index+1, num)\n",
    "    return row + 1\n",
    "\n",
    "def get_posting_num(url):\n",
    "    # 건수에 해당하는 스트링 가져오기\n",
    "    driver.get(url)\n",
    "    html = driver.page_source\n",
    "    bs = BeautifulSoup(html, 'html5lib')\n",
    "    posting_nums = bs.select('.title_num')\n",
    "\n",
    "    # 건수만 가져오기\n",
    "    # print(posting_nums)\n",
    "    if len(posting_nums) == 0:\n",
    "        num = 0\n",
    "    else:\n",
    "        num = re.findall(r'([\\d|\\,]+)건', str(posting_nums))[0]\n",
    "        num = num.replace(',', '')\n",
    "\n",
    "    return num\n",
    "\n",
    "crawl(district_names, years)"
   ]
  },
  {
   "cell_type": "code",
   "execution_count": null,
   "metadata": {},
   "outputs": [],
   "source": []
  }
 ],
 "metadata": {
  "kernelspec": {
   "display_name": "Python 3",
   "language": "python",
   "name": "python3"
  },
  "language_info": {
   "codemirror_mode": {
    "name": "ipython",
    "version": 3
   },
   "file_extension": ".py",
   "mimetype": "text/x-python",
   "name": "python",
   "nbconvert_exporter": "python",
   "pygments_lexer": "ipython3",
   "version": "3.7.3"
  }
 },
 "nbformat": 4,
 "nbformat_minor": 2
}
